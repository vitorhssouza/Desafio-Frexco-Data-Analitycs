{
 "cells": [
  {
   "attachments": {},
   "cell_type": "markdown",
   "metadata": {},
   "source": [
    "# Desafio Frexco"
   ]
  },
  {
   "cell_type": "code",
   "execution_count": 1,
   "metadata": {},
   "outputs": [],
   "source": [
    "# Importando bibliotecas que seram utilizada para esse desafio\n",
    "\n",
    "# Importando biblioteca para análise dos dados\n",
    "import pandas as pd\n",
    "import numpy as np\n",
    "\n",
    "# Biblioteca para visualização dos dados\n",
    "import matplotlib.pyplot as plt\n",
    "\n",
    "from statsmodels.tsa.ar_model import AutoReg\n",
    "\n",
    "import seaborn as sns"
   ]
  },
  {
   "cell_type": "code",
   "execution_count": 2,
   "metadata": {},
   "outputs": [
    {
     "data": {
      "text/plain": [
       "<bound method NDFrame.head of          Data  Vendas\n",
       "0  2022-12-06     870\n",
       "1  2022-12-07     868\n",
       "2  2022-12-08    1189\n",
       "3  2022-12-09     742\n",
       "4  2022-12-10     317\n",
       "5  2022-12-11     685\n",
       "6  2022-12-12    1366\n",
       "7  2022-12-13    1213\n",
       "8  2022-12-14    1055\n",
       "9  2022-12-15    1343\n",
       "10 2022-12-16     832\n",
       "11 2022-12-17     240\n",
       "12 2022-12-18     235\n",
       "13 2022-12-19    1050\n",
       "14 2022-12-20     711\n",
       "15 2022-12-21     745\n",
       "16 2022-12-22    1009\n",
       "17 2022-12-23      18\n",
       "18 2022-12-24      40\n",
       "19 2022-12-25      67\n",
       "20 2022-12-26     821\n",
       "21 2022-12-27     572\n",
       "22 2022-12-28     429\n",
       "23 2022-12-29     638\n",
       "24 2022-12-30     106\n",
       "25 2022-12-31      54\n",
       "26 2023-01-01     144\n",
       "27 2023-01-02     814\n",
       "28 2023-01-03     679\n",
       "29 2023-01-04     712\n",
       "30 2023-01-05    1229\n",
       "31 2023-01-06     821\n",
       "32 2023-01-07     319\n",
       "33 2023-01-08     317\n",
       "34 2023-01-09    1317\n",
       "35 2023-01-10     807\n",
       "36 2023-01-11     923\n",
       "37 2023-01-12    1265\n",
       "38 2023-01-13     892\n",
       "39 2023-01-14     289\n",
       "40 2023-01-15     566\n",
       "41 2023-01-16    1692\n",
       "42 2023-01-17    1097\n",
       "43 2023-01-18    1302\n",
       "44 2023-01-19    1405\n",
       "45 2023-01-20     945>"
      ]
     },
     "execution_count": 2,
     "metadata": {},
     "output_type": "execute_result"
    }
   ],
   "source": [
    "# Lendo o arquivo com pandas\n",
    "base_dados = pd.read_excel('Dados.xlsx', engine='openpyxl')\n",
    "\n",
    "# Visualizando a base de dados\n",
    "base_dados.head"
   ]
  },
  {
   "cell_type": "code",
   "execution_count": 3,
   "metadata": {},
   "outputs": [
    {
     "data": {
      "text/plain": [
       "(46, 2)"
      ]
     },
     "execution_count": 3,
     "metadata": {},
     "output_type": "execute_result"
    }
   ],
   "source": [
    "# Verificando o tamanho do arquivo\n",
    "base_dados.shape"
   ]
  },
  {
   "cell_type": "code",
   "execution_count": 4,
   "metadata": {},
   "outputs": [
    {
     "data": {
      "text/plain": [
       "Data      0\n",
       "Vendas    0\n",
       "dtype: int64"
      ]
     },
     "execution_count": 4,
     "metadata": {},
     "output_type": "execute_result"
    }
   ],
   "source": [
    "# Verificando se existe campos nulos \n",
    "base_dados.isnull().sum()\n"
   ]
  },
  {
   "cell_type": "code",
   "execution_count": 5,
   "metadata": {},
   "outputs": [
    {
     "name": "stdout",
     "output_type": "stream",
     "text": [
      "<class 'pandas.core.frame.DataFrame'>\n",
      "RangeIndex: 46 entries, 0 to 45\n",
      "Data columns (total 2 columns):\n",
      " #   Column  Non-Null Count  Dtype         \n",
      "---  ------  --------------  -----         \n",
      " 0   Data    46 non-null     datetime64[ns]\n",
      " 1   Vendas  46 non-null     int64         \n",
      "dtypes: datetime64[ns](1), int64(1)\n",
      "memory usage: 864.0 bytes\n"
     ]
    }
   ],
   "source": [
    "# Verificando as informações sobre a base de dados\n",
    "base_dados.info()"
   ]
  },
  {
   "cell_type": "code",
   "execution_count": 6,
   "metadata": {},
   "outputs": [],
   "source": [
    "# Indexando a coluna Data\n",
    "\n",
    "base_dados.set_index('Data', inplace=True)\n",
    "\n"
   ]
  },
  {
   "attachments": {},
   "cell_type": "markdown",
   "metadata": {},
   "source": [
    "## Realizando a previsão com statsmodels"
   ]
  },
  {
   "cell_type": "code",
   "execution_count": null,
   "metadata": {},
   "outputs": [],
   "source": []
  }
 ],
 "metadata": {
  "kernelspec": {
   "display_name": "Python 3",
   "language": "python",
   "name": "python3"
  },
  "language_info": {
   "codemirror_mode": {
    "name": "ipython",
    "version": 3
   },
   "file_extension": ".py",
   "mimetype": "text/x-python",
   "name": "python",
   "nbconvert_exporter": "python",
   "pygments_lexer": "ipython3",
   "version": "3.10.5"
  },
  "orig_nbformat": 4,
  "vscode": {
   "interpreter": {
    "hash": "76d7c06053c3456e5600312cec90888656fc0ed30c03d8425b9dac6e4fc8e014"
   }
  }
 },
 "nbformat": 4,
 "nbformat_minor": 2
}
